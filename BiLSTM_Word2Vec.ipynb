{
 "cells": [
  {
   "cell_type": "code",
   "execution_count": 1,
   "id": "20affa91",
   "metadata": {},
   "outputs": [],
   "source": [
    "import numpy as np\n",
    "import pandas as pd\n",
    "from gensim.models import Word2Vec\n",
    "import nltk\n",
    "from nltk.tokenize import word_tokenize\n",
    "from sklearn.model_selection import train_test_split\n",
    "from sklearn.metrics import accuracy_score, classification_report\n",
    "from tensorflow.keras.models import Sequential\n",
    "from tensorflow.keras.layers import Embedding, Bidirectional, LSTM, Dense\n",
    "import string\n",
    "import re\n",
    "from scipy.sparse import hstack\n",
    "from sklearn.metrics import mean_squared_error, mean_absolute_error"
   ]
  },
  {
   "cell_type": "code",
   "execution_count": 2,
   "id": "e209d3d6",
   "metadata": {},
   "outputs": [],
   "source": [
    "df = pd.read_csv(\"Final_data.csv\")"
   ]
  },
  {
   "cell_type": "code",
   "execution_count": 3,
   "id": "64211276",
   "metadata": {},
   "outputs": [
    {
     "data": {
      "text/html": [
       "<div>\n",
       "<style scoped>\n",
       "    .dataframe tbody tr th:only-of-type {\n",
       "        vertical-align: middle;\n",
       "    }\n",
       "\n",
       "    .dataframe tbody tr th {\n",
       "        vertical-align: top;\n",
       "    }\n",
       "\n",
       "    .dataframe thead th {\n",
       "        text-align: right;\n",
       "    }\n",
       "</style>\n",
       "<table border=\"1\" class=\"dataframe\">\n",
       "  <thead>\n",
       "    <tr style=\"text-align: right;\">\n",
       "      <th></th>\n",
       "      <th>Unnamed: 0</th>\n",
       "      <th>ix</th>\n",
       "      <th>date</th>\n",
       "      <th>id</th>\n",
       "      <th>link</th>\n",
       "      <th>retweet</th>\n",
       "      <th>text</th>\n",
       "      <th>author</th>\n",
       "      <th>Hashtag count</th>\n",
       "      <th>Punctuation count</th>\n",
       "      <th>Character count</th>\n",
       "      <th>word_count</th>\n",
       "      <th>Mentions Count</th>\n",
       "      <th>Unnamed: 13</th>\n",
       "      <th>Acronym Count</th>\n",
       "      <th>URL Count</th>\n",
       "      <th>Unnamed: 16</th>\n",
       "      <th>combined_vector</th>\n",
       "      <th>clean_text</th>\n",
       "    </tr>\n",
       "  </thead>\n",
       "  <tbody>\n",
       "    <tr>\n",
       "      <th>0</th>\n",
       "      <td>399</td>\n",
       "      <td>399</td>\n",
       "      <td>25-Sep</td>\n",
       "      <td>7.800000e+17</td>\n",
       "      <td>/amardeepkaushal/status/780133028010004481</td>\n",
       "      <td>1</td>\n",
       "      <td>\"@kdnuggets: #icymi #bigdata and the internet ...</td>\n",
       "      <td>various</td>\n",
       "      <td>3</td>\n",
       "      <td>16</td>\n",
       "      <td>136</td>\n",
       "      <td>16</td>\n",
       "      <td>0</td>\n",
       "      <td>NaN</td>\n",
       "      <td>1</td>\n",
       "      <td>1</td>\n",
       "      <td>NaN</td>\n",
       "      <td>[0.0, 0.0, 0.0, 0.0, 0.0, 0.0, 0.0, 0.0, 0.0, ...</td>\n",
       "      <td>kdnuggets icymi bigdata and the internet of th...</td>\n",
       "    </tr>\n",
       "    <tr>\n",
       "      <th>1</th>\n",
       "      <td>5168</td>\n",
       "      <td>5168</td>\n",
       "      <td>11-Jun</td>\n",
       "      <td>7.420000e+17</td>\n",
       "      <td>/EdgarSanchez/status/741764638975500290</td>\n",
       "      <td>1</td>\n",
       "      <td>\"@kdnuggets: r or #python? consider learning b...</td>\n",
       "      <td>various</td>\n",
       "      <td>3</td>\n",
       "      <td>15</td>\n",
       "      <td>139</td>\n",
       "      <td>22</td>\n",
       "      <td>0</td>\n",
       "      <td>NaN</td>\n",
       "      <td>1</td>\n",
       "      <td>1</td>\n",
       "      <td>NaN</td>\n",
       "      <td>[0.0, 0.0, 0.0, 0.0, 0.0, 0.0, 0.0, 0.0, 0.0, ...</td>\n",
       "      <td>kdnuggets r or python consider learning both k...</td>\n",
       "    </tr>\n",
       "    <tr>\n",
       "      <th>2</th>\n",
       "      <td>5836</td>\n",
       "      <td>5836</td>\n",
       "      <td>28-May</td>\n",
       "      <td>7.370000e+17</td>\n",
       "      <td>/MaxNigrelli72/status/736596414864752641</td>\n",
       "      <td>1</td>\n",
       "      <td>\"@kdnuggets: #deeplearning in a nutshell  what...</td>\n",
       "      <td>various</td>\n",
       "      <td>2</td>\n",
       "      <td>17</td>\n",
       "      <td>139</td>\n",
       "      <td>22</td>\n",
       "      <td>0</td>\n",
       "      <td>NaN</td>\n",
       "      <td>1</td>\n",
       "      <td>1</td>\n",
       "      <td>NaN</td>\n",
       "      <td>[0.0, 0.0, 0.0, 0.0, 0.0, 0.0, 0.0, 0.0, 0.0, ...</td>\n",
       "      <td>kdnuggets deeplearning in a nutshell  what it ...</td>\n",
       "    </tr>\n",
       "    <tr>\n",
       "      <th>3</th>\n",
       "      <td>6780</td>\n",
       "      <td>6780</td>\n",
       "      <td>09-May</td>\n",
       "      <td>7.300000e+17</td>\n",
       "      <td>/MaxNigrelli72/status/729768855522906113</td>\n",
       "      <td>1</td>\n",
       "      <td>\"@kdnuggets: how #bigdata helps build smart ci...</td>\n",
       "      <td>various</td>\n",
       "      <td>2</td>\n",
       "      <td>19</td>\n",
       "      <td>124</td>\n",
       "      <td>16</td>\n",
       "      <td>0</td>\n",
       "      <td>NaN</td>\n",
       "      <td>1</td>\n",
       "      <td>1</td>\n",
       "      <td>NaN</td>\n",
       "      <td>[0.0, 0.0, 0.0, 0.0, 0.0, 0.0, 0.0, 0.0, 0.0, ...</td>\n",
       "      <td>kdnuggets how bigdata helps build smart cities...</td>\n",
       "    </tr>\n",
       "    <tr>\n",
       "      <th>4</th>\n",
       "      <td>8993</td>\n",
       "      <td>8993</td>\n",
       "      <td>01-Apr</td>\n",
       "      <td>7.160000e+17</td>\n",
       "      <td>/PrecisionPoint2/status/716037533671534592</td>\n",
       "      <td>1</td>\n",
       "      <td>\"@kdnuggets #machinelearning as a service: how...</td>\n",
       "      <td>various</td>\n",
       "      <td>2</td>\n",
       "      <td>16</td>\n",
       "      <td>130</td>\n",
       "      <td>14</td>\n",
       "      <td>0</td>\n",
       "      <td>NaN</td>\n",
       "      <td>0</td>\n",
       "      <td>2</td>\n",
       "      <td>NaN</td>\n",
       "      <td>[0.0, 0.0, 0.0, 0.0, 0.0, 0.0, 0.0, 0.0, 0.0, ...</td>\n",
       "      <td>kdnuggets machinelearning as a service how dat...</td>\n",
       "    </tr>\n",
       "  </tbody>\n",
       "</table>\n",
       "</div>"
      ],
      "text/plain": [
       "   Unnamed: 0    ix    date            id  \\\n",
       "0         399   399  25-Sep  7.800000e+17   \n",
       "1        5168  5168  11-Jun  7.420000e+17   \n",
       "2        5836  5836  28-May  7.370000e+17   \n",
       "3        6780  6780  09-May  7.300000e+17   \n",
       "4        8993  8993  01-Apr  7.160000e+17   \n",
       "\n",
       "                                         link  retweet  \\\n",
       "0  /amardeepkaushal/status/780133028010004481        1   \n",
       "1     /EdgarSanchez/status/741764638975500290        1   \n",
       "2    /MaxNigrelli72/status/736596414864752641        1   \n",
       "3    /MaxNigrelli72/status/729768855522906113        1   \n",
       "4  /PrecisionPoint2/status/716037533671534592        1   \n",
       "\n",
       "                                                text   author  Hashtag count  \\\n",
       "0  \"@kdnuggets: #icymi #bigdata and the internet ...  various              3   \n",
       "1  \"@kdnuggets: r or #python? consider learning b...  various              3   \n",
       "2  \"@kdnuggets: #deeplearning in a nutshell  what...  various              2   \n",
       "3  \"@kdnuggets: how #bigdata helps build smart ci...  various              2   \n",
       "4  \"@kdnuggets #machinelearning as a service: how...  various              2   \n",
       "\n",
       "   Punctuation count  Character count  word_count  Mentions Count  \\\n",
       "0                 16              136          16               0   \n",
       "1                 15              139          22               0   \n",
       "2                 17              139          22               0   \n",
       "3                 19              124          16               0   \n",
       "4                 16              130          14               0   \n",
       "\n",
       "   Unnamed: 13  Acronym Count  URL Count  Unnamed: 16  \\\n",
       "0          NaN              1          1          NaN   \n",
       "1          NaN              1          1          NaN   \n",
       "2          NaN              1          1          NaN   \n",
       "3          NaN              1          1          NaN   \n",
       "4          NaN              0          2          NaN   \n",
       "\n",
       "                                     combined_vector  \\\n",
       "0  [0.0, 0.0, 0.0, 0.0, 0.0, 0.0, 0.0, 0.0, 0.0, ...   \n",
       "1  [0.0, 0.0, 0.0, 0.0, 0.0, 0.0, 0.0, 0.0, 0.0, ...   \n",
       "2  [0.0, 0.0, 0.0, 0.0, 0.0, 0.0, 0.0, 0.0, 0.0, ...   \n",
       "3  [0.0, 0.0, 0.0, 0.0, 0.0, 0.0, 0.0, 0.0, 0.0, ...   \n",
       "4  [0.0, 0.0, 0.0, 0.0, 0.0, 0.0, 0.0, 0.0, 0.0, ...   \n",
       "\n",
       "                                          clean_text  \n",
       "0  kdnuggets icymi bigdata and the internet of th...  \n",
       "1  kdnuggets r or python consider learning both k...  \n",
       "2  kdnuggets deeplearning in a nutshell  what it ...  \n",
       "3  kdnuggets how bigdata helps build smart cities...  \n",
       "4  kdnuggets machinelearning as a service how dat...  "
      ]
     },
     "execution_count": 3,
     "metadata": {},
     "output_type": "execute_result"
    }
   ],
   "source": [
    "df.head()"
   ]
  },
  {
   "cell_type": "code",
   "execution_count": 4,
   "id": "48817517",
   "metadata": {},
   "outputs": [],
   "source": [
    "#Tokenization\n",
    "df['tokens'] = df['clean_text'].apply(nltk.word_tokenize)"
   ]
  },
  {
   "cell_type": "code",
   "execution_count": 5,
   "id": "d8005e3b",
   "metadata": {},
   "outputs": [
    {
     "data": {
      "text/html": [
       "<div>\n",
       "<style scoped>\n",
       "    .dataframe tbody tr th:only-of-type {\n",
       "        vertical-align: middle;\n",
       "    }\n",
       "\n",
       "    .dataframe tbody tr th {\n",
       "        vertical-align: top;\n",
       "    }\n",
       "\n",
       "    .dataframe thead th {\n",
       "        text-align: right;\n",
       "    }\n",
       "</style>\n",
       "<table border=\"1\" class=\"dataframe\">\n",
       "  <thead>\n",
       "    <tr style=\"text-align: right;\">\n",
       "      <th></th>\n",
       "      <th>Unnamed: 0</th>\n",
       "      <th>ix</th>\n",
       "      <th>date</th>\n",
       "      <th>id</th>\n",
       "      <th>link</th>\n",
       "      <th>retweet</th>\n",
       "      <th>text</th>\n",
       "      <th>author</th>\n",
       "      <th>Hashtag count</th>\n",
       "      <th>Punctuation count</th>\n",
       "      <th>Character count</th>\n",
       "      <th>word_count</th>\n",
       "      <th>Mentions Count</th>\n",
       "      <th>Unnamed: 13</th>\n",
       "      <th>Acronym Count</th>\n",
       "      <th>URL Count</th>\n",
       "      <th>Unnamed: 16</th>\n",
       "      <th>combined_vector</th>\n",
       "      <th>clean_text</th>\n",
       "      <th>tokens</th>\n",
       "    </tr>\n",
       "  </thead>\n",
       "  <tbody>\n",
       "    <tr>\n",
       "      <th>0</th>\n",
       "      <td>399</td>\n",
       "      <td>399</td>\n",
       "      <td>25-Sep</td>\n",
       "      <td>7.800000e+17</td>\n",
       "      <td>/amardeepkaushal/status/780133028010004481</td>\n",
       "      <td>1</td>\n",
       "      <td>\"@kdnuggets: #icymi #bigdata and the internet ...</td>\n",
       "      <td>various</td>\n",
       "      <td>3</td>\n",
       "      <td>16</td>\n",
       "      <td>136</td>\n",
       "      <td>16</td>\n",
       "      <td>0</td>\n",
       "      <td>NaN</td>\n",
       "      <td>1</td>\n",
       "      <td>1</td>\n",
       "      <td>NaN</td>\n",
       "      <td>[0.0, 0.0, 0.0, 0.0, 0.0, 0.0, 0.0, 0.0, 0.0, ...</td>\n",
       "      <td>kdnuggets icymi bigdata and the internet of th...</td>\n",
       "      <td>[kdnuggets, icymi, bigdata, and, the, internet...</td>\n",
       "    </tr>\n",
       "    <tr>\n",
       "      <th>1</th>\n",
       "      <td>5168</td>\n",
       "      <td>5168</td>\n",
       "      <td>11-Jun</td>\n",
       "      <td>7.420000e+17</td>\n",
       "      <td>/EdgarSanchez/status/741764638975500290</td>\n",
       "      <td>1</td>\n",
       "      <td>\"@kdnuggets: r or #python? consider learning b...</td>\n",
       "      <td>various</td>\n",
       "      <td>3</td>\n",
       "      <td>15</td>\n",
       "      <td>139</td>\n",
       "      <td>22</td>\n",
       "      <td>0</td>\n",
       "      <td>NaN</td>\n",
       "      <td>1</td>\n",
       "      <td>1</td>\n",
       "      <td>NaN</td>\n",
       "      <td>[0.0, 0.0, 0.0, 0.0, 0.0, 0.0, 0.0, 0.0, 0.0, ...</td>\n",
       "      <td>kdnuggets r or python consider learning both k...</td>\n",
       "      <td>[kdnuggets, r, or, python, consider, learning,...</td>\n",
       "    </tr>\n",
       "    <tr>\n",
       "      <th>2</th>\n",
       "      <td>5836</td>\n",
       "      <td>5836</td>\n",
       "      <td>28-May</td>\n",
       "      <td>7.370000e+17</td>\n",
       "      <td>/MaxNigrelli72/status/736596414864752641</td>\n",
       "      <td>1</td>\n",
       "      <td>\"@kdnuggets: #deeplearning in a nutshell  what...</td>\n",
       "      <td>various</td>\n",
       "      <td>2</td>\n",
       "      <td>17</td>\n",
       "      <td>139</td>\n",
       "      <td>22</td>\n",
       "      <td>0</td>\n",
       "      <td>NaN</td>\n",
       "      <td>1</td>\n",
       "      <td>1</td>\n",
       "      <td>NaN</td>\n",
       "      <td>[0.0, 0.0, 0.0, 0.0, 0.0, 0.0, 0.0, 0.0, 0.0, ...</td>\n",
       "      <td>kdnuggets deeplearning in a nutshell  what it ...</td>\n",
       "      <td>[kdnuggets, deeplearning, in, a, nutshell, wha...</td>\n",
       "    </tr>\n",
       "    <tr>\n",
       "      <th>3</th>\n",
       "      <td>6780</td>\n",
       "      <td>6780</td>\n",
       "      <td>09-May</td>\n",
       "      <td>7.300000e+17</td>\n",
       "      <td>/MaxNigrelli72/status/729768855522906113</td>\n",
       "      <td>1</td>\n",
       "      <td>\"@kdnuggets: how #bigdata helps build smart ci...</td>\n",
       "      <td>various</td>\n",
       "      <td>2</td>\n",
       "      <td>19</td>\n",
       "      <td>124</td>\n",
       "      <td>16</td>\n",
       "      <td>0</td>\n",
       "      <td>NaN</td>\n",
       "      <td>1</td>\n",
       "      <td>1</td>\n",
       "      <td>NaN</td>\n",
       "      <td>[0.0, 0.0, 0.0, 0.0, 0.0, 0.0, 0.0, 0.0, 0.0, ...</td>\n",
       "      <td>kdnuggets how bigdata helps build smart cities...</td>\n",
       "      <td>[kdnuggets, how, bigdata, helps, build, smart,...</td>\n",
       "    </tr>\n",
       "    <tr>\n",
       "      <th>4</th>\n",
       "      <td>8993</td>\n",
       "      <td>8993</td>\n",
       "      <td>01-Apr</td>\n",
       "      <td>7.160000e+17</td>\n",
       "      <td>/PrecisionPoint2/status/716037533671534592</td>\n",
       "      <td>1</td>\n",
       "      <td>\"@kdnuggets #machinelearning as a service: how...</td>\n",
       "      <td>various</td>\n",
       "      <td>2</td>\n",
       "      <td>16</td>\n",
       "      <td>130</td>\n",
       "      <td>14</td>\n",
       "      <td>0</td>\n",
       "      <td>NaN</td>\n",
       "      <td>0</td>\n",
       "      <td>2</td>\n",
       "      <td>NaN</td>\n",
       "      <td>[0.0, 0.0, 0.0, 0.0, 0.0, 0.0, 0.0, 0.0, 0.0, ...</td>\n",
       "      <td>kdnuggets machinelearning as a service how dat...</td>\n",
       "      <td>[kdnuggets, machinelearning, as, a, service, h...</td>\n",
       "    </tr>\n",
       "  </tbody>\n",
       "</table>\n",
       "</div>"
      ],
      "text/plain": [
       "   Unnamed: 0    ix    date            id  \\\n",
       "0         399   399  25-Sep  7.800000e+17   \n",
       "1        5168  5168  11-Jun  7.420000e+17   \n",
       "2        5836  5836  28-May  7.370000e+17   \n",
       "3        6780  6780  09-May  7.300000e+17   \n",
       "4        8993  8993  01-Apr  7.160000e+17   \n",
       "\n",
       "                                         link  retweet  \\\n",
       "0  /amardeepkaushal/status/780133028010004481        1   \n",
       "1     /EdgarSanchez/status/741764638975500290        1   \n",
       "2    /MaxNigrelli72/status/736596414864752641        1   \n",
       "3    /MaxNigrelli72/status/729768855522906113        1   \n",
       "4  /PrecisionPoint2/status/716037533671534592        1   \n",
       "\n",
       "                                                text   author  Hashtag count  \\\n",
       "0  \"@kdnuggets: #icymi #bigdata and the internet ...  various              3   \n",
       "1  \"@kdnuggets: r or #python? consider learning b...  various              3   \n",
       "2  \"@kdnuggets: #deeplearning in a nutshell  what...  various              2   \n",
       "3  \"@kdnuggets: how #bigdata helps build smart ci...  various              2   \n",
       "4  \"@kdnuggets #machinelearning as a service: how...  various              2   \n",
       "\n",
       "   Punctuation count  Character count  word_count  Mentions Count  \\\n",
       "0                 16              136          16               0   \n",
       "1                 15              139          22               0   \n",
       "2                 17              139          22               0   \n",
       "3                 19              124          16               0   \n",
       "4                 16              130          14               0   \n",
       "\n",
       "   Unnamed: 13  Acronym Count  URL Count  Unnamed: 16  \\\n",
       "0          NaN              1          1          NaN   \n",
       "1          NaN              1          1          NaN   \n",
       "2          NaN              1          1          NaN   \n",
       "3          NaN              1          1          NaN   \n",
       "4          NaN              0          2          NaN   \n",
       "\n",
       "                                     combined_vector  \\\n",
       "0  [0.0, 0.0, 0.0, 0.0, 0.0, 0.0, 0.0, 0.0, 0.0, ...   \n",
       "1  [0.0, 0.0, 0.0, 0.0, 0.0, 0.0, 0.0, 0.0, 0.0, ...   \n",
       "2  [0.0, 0.0, 0.0, 0.0, 0.0, 0.0, 0.0, 0.0, 0.0, ...   \n",
       "3  [0.0, 0.0, 0.0, 0.0, 0.0, 0.0, 0.0, 0.0, 0.0, ...   \n",
       "4  [0.0, 0.0, 0.0, 0.0, 0.0, 0.0, 0.0, 0.0, 0.0, ...   \n",
       "\n",
       "                                          clean_text  \\\n",
       "0  kdnuggets icymi bigdata and the internet of th...   \n",
       "1  kdnuggets r or python consider learning both k...   \n",
       "2  kdnuggets deeplearning in a nutshell  what it ...   \n",
       "3  kdnuggets how bigdata helps build smart cities...   \n",
       "4  kdnuggets machinelearning as a service how dat...   \n",
       "\n",
       "                                              tokens  \n",
       "0  [kdnuggets, icymi, bigdata, and, the, internet...  \n",
       "1  [kdnuggets, r, or, python, consider, learning,...  \n",
       "2  [kdnuggets, deeplearning, in, a, nutshell, wha...  \n",
       "3  [kdnuggets, how, bigdata, helps, build, smart,...  \n",
       "4  [kdnuggets, machinelearning, as, a, service, h...  "
      ]
     },
     "execution_count": 5,
     "metadata": {},
     "output_type": "execute_result"
    }
   ],
   "source": [
    "df.head()"
   ]
  },
  {
   "cell_type": "code",
   "execution_count": 6,
   "id": "ca46b123",
   "metadata": {},
   "outputs": [],
   "source": [
    "# Assuming you have a DataFrame 'df' containing the numeric columns\n",
    "# Extract the numeric columns from the DataFrame\n",
    "numeric_columns = df[['Hashtag count', 'Punctuation count', 'Character count', 'word_count', 'Mentions Count', 'Acronym Count', 'URL Count']]"
   ]
  },
  {
   "cell_type": "code",
   "execution_count": 7,
   "id": "18b4e082",
   "metadata": {},
   "outputs": [],
   "source": [
    "import tensorflow\n",
    "from tensorflow.keras.preprocessing.sequence import pad_sequences"
   ]
  },
  {
   "cell_type": "code",
   "execution_count": 8,
   "id": "9ab3809d",
   "metadata": {},
   "outputs": [],
   "source": [
    "max_seq_length = 100\n",
    "dummy_text = 0 # Define the dummy text\n",
    "\n",
    "# Pad the tokenized text with the dummy text\n",
    "padded_tokens = pad_sequences(df['tokens'], maxlen=max_seq_length, padding='post', dtype='object', value=0)"
   ]
  },
  {
   "cell_type": "code",
   "execution_count": 9,
   "id": "3622fe53",
   "metadata": {},
   "outputs": [],
   "source": [
    "# Convert the numeric columns to a sparse matrix\n",
    "numeric_matrix = numeric_columns.values"
   ]
  },
  {
   "cell_type": "code",
   "execution_count": 10,
   "id": "72dc3dde",
   "metadata": {},
   "outputs": [
    {
     "data": {
      "text/plain": [
       "array([[  3,  16, 136, ...,   0,   1,   1],\n",
       "       [  3,  15, 139, ...,   0,   1,   1],\n",
       "       [  2,  17, 139, ...,   0,   1,   1],\n",
       "       ...,\n",
       "       [  0,  11, 146, ...,   0,   0,   1],\n",
       "       [  0,  12, 145, ...,   1,   0,   1],\n",
       "       [  0,  11, 136, ...,   0,   0,   1]], dtype=int64)"
      ]
     },
     "execution_count": 10,
     "metadata": {},
     "output_type": "execute_result"
    }
   ],
   "source": [
    "numeric_matrix"
   ]
  },
  {
   "cell_type": "code",
   "execution_count": 11,
   "id": "bdccfb33",
   "metadata": {},
   "outputs": [
    {
     "data": {
      "text/plain": [
       "0       1\n",
       "1       1\n",
       "2       1\n",
       "3       1\n",
       "4       1\n",
       "       ..\n",
       "1995    0\n",
       "1996    0\n",
       "1997    0\n",
       "1998    0\n",
       "1999    0\n",
       "Name: retweet, Length: 2000, dtype: int64"
      ]
     },
     "execution_count": 11,
     "metadata": {},
     "output_type": "execute_result"
    }
   ],
   "source": [
    "y = df['retweet']\n",
    "y"
   ]
  },
  {
   "cell_type": "code",
   "execution_count": 12,
   "id": "bfd5628a",
   "metadata": {},
   "outputs": [],
   "source": [
    "#Train Word2Vec on the tokenized text\n",
    "model = Word2Vec(df['tokens'], sg=1, vector_size=100, window=5, min_count=1, workers=4)"
   ]
  },
  {
   "cell_type": "code",
   "execution_count": 13,
   "id": "07a2a6a9",
   "metadata": {},
   "outputs": [],
   "source": [
    "combined_data = []\n",
    "for tokens, features in zip(padded_tokens, numeric_matrix):\n",
    "    word_vectors = [model.wv[word] for word in tokens if word in model.wv]\n",
    "    if word_vectors:\n",
    "        # Concatenate the word vectors and the numeric features\n",
    "        combined_vector = np.concatenate([np.mean(word_vectors, axis=0), features])\n",
    "        combined_data.append(combined_vector)"
   ]
  },
  {
   "cell_type": "code",
   "execution_count": null,
   "id": "6e8392fb",
   "metadata": {},
   "outputs": [],
   "source": [
    "from sklearn.preprocessing import StandardScaler\n",
    "# Standardize the numeric features\n",
    "\n",
    "scaler = StandardScaler()\n",
    "numeric_matrix_scaled = scaler.fit_transform(numeric_matrix)\n",
    "\n",
    "# Combine word embeddings and numeric features\n",
    "X_combined = np.array(combined_data)"
   ]
  },
  {
   "cell_type": "code",
   "execution_count": null,
   "id": "57710b3f",
   "metadata": {},
   "outputs": [],
   "source": [
    "# Split data into training and testing sets\n",
    "X_train, X_test, y_train, y_test = train_test_split(X_combined,y, test_size=0.2, random_state=42)"
   ]
  },
  {
   "cell_type": "code",
   "execution_count": null,
   "id": "a69d1735",
   "metadata": {},
   "outputs": [],
   "source": [
    "# Reshape input data for BiLSTM\n",
    "X_train = X_train.reshape((X_train.shape[0], 1, X_train.shape[1]))\n",
    "X_test = X_test.reshape((X_test.shape[0], 1, X_test.shape[1]))"
   ]
  },
  {
   "cell_type": "code",
   "execution_count": null,
   "id": "5887f641",
   "metadata": {},
   "outputs": [],
   "source": [
    "# Define the BiLSTM model\n",
    "model_bilstm = Sequential()\n",
    "model_bilstm.add(Bidirectional(LSTM(100, return_sequences=False), input_shape=(X_train.shape[1], X_train.shape[2])))\n",
    "model_bilstm.add(Dense(1, activation='sigmoid'))"
   ]
  },
  {
   "cell_type": "code",
   "execution_count": null,
   "id": "e8492dab",
   "metadata": {},
   "outputs": [],
   "source": [
    "# Compile the model\n",
    "model_bilstm.compile(optimizer='adam', loss='binary_crossentropy', metrics=['accuracy'])"
   ]
  },
  {
   "cell_type": "code",
   "execution_count": 14,
   "id": "9d3fdae7",
   "metadata": {},
   "outputs": [
    {
     "ename": "NameError",
     "evalue": "name 'model_bilstm' is not defined",
     "output_type": "error",
     "traceback": [
      "\u001b[1;31m---------------------------------------------------------------------------\u001b[0m",
      "\u001b[1;31mNameError\u001b[0m                                 Traceback (most recent call last)",
      "Cell \u001b[1;32mIn[14], line 2\u001b[0m\n\u001b[0;32m      1\u001b[0m \u001b[38;5;66;03m# Train the model\u001b[39;00m\n\u001b[1;32m----> 2\u001b[0m model_bilstm\u001b[38;5;241m.\u001b[39mfit(X_train, y_train, epochs\u001b[38;5;241m=\u001b[39m\u001b[38;5;241m10\u001b[39m, batch_size\u001b[38;5;241m=\u001b[39m\u001b[38;5;241m32\u001b[39m, validation_split\u001b[38;5;241m=\u001b[39m\u001b[38;5;241m0.2\u001b[39m)\n",
      "\u001b[1;31mNameError\u001b[0m: name 'model_bilstm' is not defined"
     ]
    }
   ],
   "source": [
    "# Train the model\n",
    "model_bilstm.fit(X_train, y_train, epochs=10, batch_size=32, validation_split=0.2)"
   ]
  },
  {
   "cell_type": "code",
   "execution_count": 21,
   "id": "934f59cf",
   "metadata": {},
   "outputs": [
    {
     "name": "stdout",
     "output_type": "stream",
     "text": [
      "13/13 [==============================] - 2s 5ms/step\n"
     ]
    }
   ],
   "source": [
    "# Evaluate the BiLSTM model on the test set\n",
    "y_pred_bilstm = (model_bilstm.predict(X_test) > 0.5).astype(int)\n",
    "accuracy_bilstm = accuracy_score(y_test, y_pred_bilstm)\n",
    "# Calculate MSE and RMSE\n",
    "mse = mean_squared_error(y_test, y_pred)\n",
    "rmse = np.sqrt(mse)\n"
   ]
  },
  {
   "cell_type": "code",
   "execution_count": 22,
   "id": "431b7bc4",
   "metadata": {},
   "outputs": [
    {
     "name": "stdout",
     "output_type": "stream",
     "text": [
      "BiLSTM Model Accuracy: 0.89\n",
      "\n",
      "Classification Report:\n",
      "               precision    recall  f1-score   support\n",
      "\n",
      "           0       0.88      0.91      0.89       201\n",
      "           1       0.91      0.87      0.89       199\n",
      "\n",
      "    accuracy                           0.89       400\n",
      "   macro avg       0.89      0.89      0.89       400\n",
      "weighted avg       0.89      0.89      0.89       400\n",
      "\n"
     ]
    }
   ],
   "source": [
    "print(\"BiLSTM Model Accuracy:\", accuracy_bilstm)\n",
    "print(\"\\n Mean Squared Error:\", mse)\n",
    "print(\"\\n Root Mean Squared Error:\", rmse)\n",
    "print(\"\\nClassification Report:\\n\", classification_report(y_test, y_pred_bilstm))"
   ]
  },
  {
   "cell_type": "code",
   "execution_count": 23,
   "id": "f00ea118",
   "metadata": {},
   "outputs": [],
   "source": [
    "from sklearn.metrics import accuracy_score, classification_report, roc_curve, auc\n",
    "import matplotlib.pyplot as plt"
   ]
  },
  {
   "cell_type": "code",
   "execution_count": 24,
   "id": "839dc6d3",
   "metadata": {},
   "outputs": [
    {
     "data": {
      "image/png": "[encoded data removed]",
      "text/plain": [
       "<Figure size 1000x600 with 1 Axes>"
      ]
     },
     "metadata": {},
     "output_type": "display_data"
    }
   ],
   "source": [
    "# Calculate ROC Curve and AUC\n",
    "fpr, tpr, thresholds = roc_curve(y_test, y_pred_bilstm)\n",
    "roc_auc = auc(fpr, tpr)\n",
    "\n",
    "# Plot ROC Curve\n",
    "plt.figure(figsize=(10, 6))\n",
    "plt.plot(fpr, tpr, color='darkorange', lw=2, label=f'AUC = {roc_auc:.2f}')\n",
    "plt.plot([0, 1], [0, 1], color='navy', lw=2, linestyle='--')\n",
    "plt.xlabel('False Positive Rate')\n",
    "plt.ylabel('True Positive Rate')\n",
    "plt.title('ROC Curve')\n",
    "plt.legend(loc='lower right')\n",
    "plt.show()\n"
   ]
  },
  {
   "cell_type": "code",
   "execution_count": null,
   "id": "7f11b134",
   "metadata": {},
   "outputs": [],
   "source": []
  }
 ],
 "metadata": {
  "kernelspec": {
   "display_name": "Python 3 (ipykernel)",
   "language": "python",
   "name": "python3"
  },
  "language_info": {
   "codemirror_mode": {
    "name": "ipython",
    "version": 3
   },
   "file_extension": ".py",
   "mimetype": "text/x-python",
   "name": "python",
   "nbconvert_exporter": "python",
   "pygments_lexer": "ipython3",
   "version": "3.11.4"
  },
  "varInspector": {
   "cols": {
    "lenName": 16,
    "lenType": 16,
    "lenVar": 40
   },
   "kernels_config": {
    "python": {
     "delete_cmd_postfix": "",
     "delete_cmd_prefix": "del ",
     "library": "var_list.py",
     "varRefreshCmd": "print(var_dic_list())"
    },
    "r": {
     "delete_cmd_postfix": ") ",
     "delete_cmd_prefix": "rm(",
     "library": "var_list.r",
     "varRefreshCmd": "cat(var_dic_list()) "
    }
   },
   "types_to_exclude": [
    "module",
    "function",
    "builtin_function_or_method",
    "instance",
    "_Feature"
   ],
   "window_display": false
  }
 },
 "nbformat": 4,
 "nbformat_minor": 5
}
